{
 "cells": [
  {
   "cell_type": "code",
   "execution_count": 1,
   "metadata": {},
   "outputs": [],
   "source": [
    "import sys\n",
    "sys.path.append('../HeapModel')"
   ]
  },
  {
   "cell_type": "code",
   "execution_count": 2,
   "metadata": {},
   "outputs": [],
   "source": [
    "from copy import deepcopy\n",
    "import angr\n",
    "from angr import SimStatePlugin, SimProcedure\n",
    "from mstate import HeapState"
   ]
  },
  {
   "cell_type": "code",
   "execution_count": 3,
   "metadata": {},
   "outputs": [],
   "source": [
    "class HeapPlugin(SimStatePlugin):\n",
    "    def __init__(self, h=None):\n",
    "        super().__init__()\n",
    "        if(h is None):\n",
    "            self.heap_state = HeapState(0)\n",
    "        else:\n",
    "            self.heap_state = h\n",
    "        \n",
    "    def set_heap(self, h):\n",
    "        self.heap_state = h\n",
    "    \n",
    "    @SimStatePlugin.memo\n",
    "    def copy(self, memo):\n",
    "        heap_copy = deepcopy(self.heap_state)\n",
    "        return HeapPlugin(heap_copy)"
   ]
  },
  {
   "cell_type": "code",
   "execution_count": 4,
   "metadata": {},
   "outputs": [
    {
     "name": "stderr",
     "output_type": "stream",
     "text": [
      "WARNING | 2020-06-18 20:00:06,185 | \u001b[36mcle.loader\u001b[0m | \u001b[36mThe main binary is a position-independent executable. It is being loaded with a base address of 0x400000.\u001b[0m\n"
     ]
    }
   ],
   "source": [
    "b = angr.Project('TestCases/UAF')\n",
    "ss = b.factory.blank_state()"
   ]
  },
  {
   "cell_type": "code",
   "execution_count": 5,
   "metadata": {},
   "outputs": [
    {
     "data": {
      "text/plain": [
       "<__main__.HeapPlugin at 0x7f6fefadfa58>"
      ]
     },
     "execution_count": 5,
     "metadata": {},
     "output_type": "execute_result"
    }
   ],
   "source": [
    "ss.register_plugin('heap', HeapPlugin())"
   ]
  },
  {
   "cell_type": "code",
   "execution_count": 6,
   "metadata": {},
   "outputs": [],
   "source": [
    "class Malloc(SimProcedure):\n",
    "    i = 0\n",
    "    def run(self):\n",
    "        print(f'malloc called {self.i}')\n",
    "        self.i+=1\n",
    "\n",
    "class Free(SimProcedure):\n",
    "    i = 0\n",
    "    def run(self):\n",
    "        print(f'free called {self.i}')\n",
    "        self.i+=1        "
   ]
  },
  {
   "cell_type": "code",
   "execution_count": 7,
   "metadata": {},
   "outputs": [
    {
     "name": "stderr",
     "output_type": "stream",
     "text": [
      "WARNING | 2020-06-18 20:00:07,005 | \u001b[34mangr.project\u001b[0m | \u001b[34mAddress is already hooked, during hook(0x797070, <SimProcedure Malloc>). Re-hooking.\u001b[0m\n",
      "WARNING | 2020-06-18 20:00:07,006 | \u001b[34mangr.project\u001b[0m | \u001b[34mAddress is already hooked, during hook(0x797950, <SimProcedure Free>). Re-hooking.\u001b[0m\n"
     ]
    },
    {
     "data": {
      "text/plain": [
       "7960912"
      ]
     },
     "execution_count": 7,
     "metadata": {},
     "output_type": "execute_result"
    }
   ],
   "source": [
    "b.hook_symbol('malloc', Malloc())\n",
    "b.hook_symbol('free', Free())"
   ]
  },
  {
   "cell_type": "code",
   "execution_count": 8,
   "metadata": {
    "scrolled": true
   },
   "outputs": [
    {
     "name": "stderr",
     "output_type": "stream",
     "text": [
      "WARNING | 2020-06-18 20:00:07,060 | \u001b[32mangr.state_plugins.symbolic_memory\u001b[0m | \u001b[32mThe program is accessing memory or registers with an unspecified value. This could indicate unwanted behavior.\u001b[0m\n",
      "WARNING | 2020-06-18 20:00:07,061 | \u001b[32mangr.state_plugins.symbolic_memory\u001b[0m | \u001b[32mangr will cope with this by generating an unconstrained symbolic variable and continuing. You can resolve this by:\u001b[0m\n",
      "WARNING | 2020-06-18 20:00:07,061 | \u001b[32mangr.state_plugins.symbolic_memory\u001b[0m | \u001b[32m1) setting a value to the initial state\u001b[0m\n",
      "WARNING | 2020-06-18 20:00:07,062 | \u001b[32mangr.state_plugins.symbolic_memory\u001b[0m | \u001b[32m2) adding the state option ZERO_FILL_UNCONSTRAINED_{MEMORY,REGISTERS}, to make unknown regions hold null\u001b[0m\n",
      "WARNING | 2020-06-18 20:00:07,062 | \u001b[32mangr.state_plugins.symbolic_memory\u001b[0m | \u001b[32m3) adding the state option SYMBOL_FILL_UNCONSTRAINED_{MEMORY_REGISTERS}, to suppress these messages.\u001b[0m\n",
      "WARNING | 2020-06-18 20:00:07,063 | \u001b[32mangr.state_plugins.symbolic_memory\u001b[0m | \u001b[32mFilling register rdx with 8 unconstrained bytes referenced from 0x400580 (_start+0x0 in UAF (0x580))\u001b[0m\n",
      "WARNING | 2020-06-18 20:00:07,065 | \u001b[32mangr.state_plugins.symbolic_memory\u001b[0m | \u001b[32mFilling memory at 0x7fffffffffefff8 with 8 unconstrained bytes referenced from 0x400585 (_start+0x5 in UAF (0x585))\u001b[0m\n",
      "WARNING | 2020-06-18 20:00:07,069 | \u001b[32mangr.state_plugins.symbolic_memory\u001b[0m | \u001b[32mFilling register rax with 8 unconstrained bytes referenced from 0x40058d (_start+0xd in UAF (0x58d))\u001b[0m\n"
     ]
    },
    {
     "name": "stdout",
     "output_type": "stream",
     "text": [
      "<__main__.HeapPlugin object at 0x7f6fef22b908>\n"
     ]
    }
   ],
   "source": [
    "sm = b.factory.simulation_manager(ss)\n",
    "sm.step()\n",
    "print(sm.active[0].heap)"
   ]
  },
  {
   "cell_type": "code",
   "execution_count": null,
   "metadata": {},
   "outputs": [],
   "source": []
  }
 ],
 "metadata": {
  "kernelspec": {
   "display_name": "angr",
   "language": "python",
   "name": "angr"
  },
  "language_info": {
   "codemirror_mode": {
    "name": "ipython",
    "version": 3
   },
   "file_extension": ".py",
   "mimetype": "text/x-python",
   "name": "python",
   "nbconvert_exporter": "python",
   "pygments_lexer": "ipython3",
   "version": "3.6.9"
  }
 },
 "nbformat": 4,
 "nbformat_minor": 4
}
