{
 "cells": [
  {
   "cell_type": "code",
   "execution_count": 205,
   "outputs": [],
   "source": [
    "import os\n",
    "import sys\n",
    "os.chdir('/home/ajinkya/Guided_HLM/HeapStatee/')\n",
    "# sys.path.append('HeapModel')\n",
    "from copy import deepcopy\n",
    "import angr\n",
    "from angr import SimStatePlugin, SimProcedure\n",
    "from HeapModel.mstate import HeapState\n",
    "\n",
    "class HeapPlugin(SimStatePlugin):\n",
    "    def __init__(self, h=None):\n",
    "        super().__init__()\n",
    "        if(h is None):\n",
    "            self.heap_state = HeapState(0)\n",
    "        else:\n",
    "            self.heap_state = h\n",
    "\n",
    "    def set_heap(self, h):\n",
    "        self.heap_state = h\n",
    "\n",
    "    @SimStatePlugin.memo\n",
    "    def copy(self, memo):\n",
    "        heap_copy = deepcopy(self.heap_state)\n",
    "        return HeapPlugin(heap_copy)\n",
    "\n",
    "b = angr.Project('AngrState/TestCases/UAF')\n",
    "ss = b.factory.blank_state()\n",
    "\n",
    "ss.register_plugin('my_heap', HeapPlugin())\n",
    "\n",
    "class Malloc(SimProcedure):\n",
    "    i = 0\n",
    "    def run(self, size):\n",
    "        print(f'malloc called {self.i}')\n",
    "        print(size)\n",
    "\n",
    "        self.i+=1\n",
    "\n",
    "class Free(SimProcedure):\n",
    "    i = 0\n",
    "    def run(self, address):\n",
    "        print(f'free called {self.i}')\n",
    "        print(address)\n",
    "        self.i+=1\n",
    "\n",
    "b.hook_symbol('malloc', Malloc())\n",
    "b.hook_symbol('free', Free())\n",
    "\n",
    "\n",
    "\n",
    "sm = b.factory.simulation_manager(ss)\n"
   ],
   "metadata": {
    "collapsed": false,
    "pycharm": {
     "name": "#%%\n"
    }
   }
  },
  {
   "cell_type": "code",
   "execution_count": 234,
   "outputs": [
    {
     "name": "stdout",
     "output_type": "stream",
     "text": [
      "malloc called 0\n",
      "<SAO <BV64 0x10>>\n"
     ]
    },
    {
     "data": {
      "text/plain": "<SimulationManager with 1 active>"
     },
     "execution_count": 234,
     "metadata": {},
     "output_type": "execute_result"
    }
   ],
   "source": [
    "sm.step()\n"
   ],
   "metadata": {
    "collapsed": false,
    "pycharm": {
     "name": "#%%\n"
    }
   }
  },
  {
   "cell_type": "code",
   "execution_count": 183,
   "outputs": [],
   "source": [
    "\n"
   ],
   "metadata": {
    "collapsed": false,
    "pycharm": {
     "name": "#%%\n"
    }
   }
  }
 ],
 "metadata": {
  "kernelspec": {
   "display_name": "angr",
   "language": "python",
   "name": "angr"
  },
  "language_info": {
   "codemirror_mode": {
    "name": "ipython",
    "version": 3
   },
   "file_extension": ".py",
   "mimetype": "text/x-python",
   "name": "python",
   "nbconvert_exporter": "python",
   "pygments_lexer": "ipython3",
   "version": "3.6.9"
  }
 },
 "nbformat": 4,
 "nbformat_minor": 4
}