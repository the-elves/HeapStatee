{
 "cells": [
  {
   "cell_type": "code",
   "execution_count": 5,
   "metadata": {},
   "outputs": [],
   "source": [
    "import sys\n",
    "sys.path.append('../HeapModel')"
   ]
  },
  {
   "cell_type": "code",
   "execution_count": 9,
   "metadata": {},
   "outputs": [],
   "source": [
    "from copy import deepcopy\n",
    "from angr import SimStatePlugin\n",
    "from mstate import HeapState"
   ]
  },
  {
   "cell_type": "code",
   "execution_count": 12,
   "metadata": {},
   "outputs": [],
   "source": [
    "class HeapPlugin(SimStatePlugin):\n",
    "    def __init__(self):\n",
    "        super().__init__()\n",
    "        self.heap_state = HeapState()\n",
    "        \n",
    "    def set_heap(self, h):\n",
    "        self.heap_state = h\n",
    "    \n",
    "    @SimStatePlugin.memo\n",
    "    def copy(self, memo):\n",
    "        heap_copy = deepcopy(self.heap_state)\n",
    "        sel\n",
    "        "
   ]
  }
 ],
 "metadata": {
  "kernelspec": {
   "display_name": "angr",
   "language": "python",
   "name": "angr"
  },
  "language_info": {
   "codemirror_mode": {
    "name": "ipython",
    "version": 3
   },
   "file_extension": ".py",
   "mimetype": "text/x-python",
   "name": "python",
   "nbconvert_exporter": "python",
   "pygments_lexer": "ipython3",
   "version": "3.6.9"
  }
 },
 "nbformat": 4,
 "nbformat_minor": 4
}
