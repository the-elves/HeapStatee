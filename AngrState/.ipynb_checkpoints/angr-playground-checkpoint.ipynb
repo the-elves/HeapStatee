{
 "cells": [
  {
   "cell_type": "code",
   "execution_count": 45,
   "metadata": {},
   "outputs": [
    {
     "name": "stderr",
     "output_type": "stream",
     "text": [
      "WARNING | 2020-05-30 21:53:44,975 | \u001b[36mcle.loader\u001b[0m | \u001b[36mThe main binary is a position-independent executable. It is being loaded with a base address of 0x400000.\u001b[0m\n"
     ]
    }
   ],
   "source": [
    "import angr\n",
    "b = angr.Project('TestCases/UAF')"
   ]
  },
  {
   "cell_type": "code",
   "execution_count": 46,
   "metadata": {},
   "outputs": [
    {
     "data": {
      "text/plain": [
       "<SimState @ 0x4005d0>"
      ]
     },
     "execution_count": 46,
     "metadata": {},
     "output_type": "execute_result"
    }
   ],
   "source": [
    "estate = b.factory.entry_state()\n",
    "estate"
   ]
  },
  {
   "cell_type": "code",
   "execution_count": 48,
   "metadata": {},
   "outputs": [
    {
     "name": "stderr",
     "output_type": "stream",
     "text": [
      "WARNING | 2020-05-30 21:55:35,449 | \u001b[32mangr.state_plugins.symbolic_memory\u001b[0m | \u001b[32mFilling register rbp with 8 unconstrained bytes referenced from 0x4006da (main+0x0 in UAF (0x6da))\u001b[0m\n",
      "WARNING | 2020-05-30 21:55:35,563 | \u001b[32mangr.state_plugins.symbolic_memory\u001b[0m | \u001b[32mFilling memory at 0x7fffffffffefff8 with 8 unconstrained bytes referenced from 0x40075d (main+0x83 in UAF (0x75d))\u001b[0m\n"
     ]
    },
    {
     "name": "stdout",
     "output_type": "stream",
     "text": [
      "malloc_address: 17395824\n",
      "defaultdict(<class 'list'>, {'active': [<SimState @ 0x4006da>], 'stashed': [], 'pruned': [], 'unsat': [], 'errored': [], 'deadended': [], 'unconstrained': []})\n",
      "active------\n",
      "0x4006da:\tpush\trbp\n",
      "0x4006db:\tmov\trbp, rsp\n",
      "0x4006de:\tsub\trsp, 0x20\n",
      "0x4006e2:\tmov\tedi, 0x10\n",
      "0x4006e7:\tcall\t0x4005b0\n",
      "defaultdict(<class 'list'>, {'active': [<SimState @ 0x4005b0>], 'stashed': [], 'pruned': [], 'unsat': [], 'errored': [], 'deadended': [], 'unconstrained': []})\n",
      "active------\n",
      "0x4005b0:\tjmp\tqword ptr [rip + 0x200a1a]\n",
      "defaultdict(<class 'list'>, {'active': [<SimState @ 0x1097070>], 'stashed': [], 'pruned': [], 'unsat': [], 'errored': [], 'deadended': [], 'unconstrained': []})\n",
      "active------\n",
      "0x1097070:\tpush\trbp\n",
      "0x1097071:\tpush\trbx\n",
      "0x1097072:\tsub\trsp, 0x18\n",
      "0x1097076:\tmov\trax, qword ptr [rip + 0x353e63]\n",
      "0x109707d:\tmov\trax, qword ptr [rax]\n",
      "0x1097080:\ttest\trax, rax\n",
      "0x1097083:\tjne\t0x1097270\n",
      "defaultdict(<class 'list'>, {'active': [<SimState @ 0x4006ec>], 'stashed': [], 'pruned': [], 'unsat': [], 'errored': [], 'deadended': [], 'unconstrained': []})\n",
      "active------\n",
      "0x4006ec:\tmov\tqword ptr [rbp - 0x18], rax\n",
      "0x4006f0:\tmov\trax, qword ptr [rbp - 0x18]\n",
      "0x4006f4:\tmov\tdword ptr [rax + 8], 0\n",
      "0x4006fb:\tmov\trax, qword ptr [rbp - 0x18]\n",
      "0x4006ff:\tmov\trdi, rax\n",
      "0x400702:\tcall\t0x400590\n",
      "defaultdict(<class 'list'>, {'active': [<SimState @ 0x400590>], 'stashed': [], 'pruned': [], 'unsat': [], 'errored': [], 'deadended': [], 'unconstrained': []})\n",
      "active------\n",
      "0x400590:\tjmp\tqword ptr [rip + 0x200a2a]\n",
      "defaultdict(<class 'list'>, {'active': [<SimState @ 0x1097950>], 'stashed': [], 'pruned': [], 'unsat': [], 'errored': [], 'deadended': [], 'unconstrained': []})\n",
      "active------\n",
      "0x1097950:\tpush\tr15\n",
      "0x1097952:\tpush\tr14\n",
      "0x1097954:\tpush\tr13\n",
      "0x1097956:\tpush\tr12\n",
      "0x1097958:\tmov\tr12, rdi\n",
      "0x109795b:\tpush\trbp\n",
      "0x109795c:\tpush\trbx\n",
      "0x109795d:\tsub\trsp, 0x38\n",
      "0x1097961:\tmov\trax, qword ptr fs:[0x28]\n",
      "0x109796a:\tmov\tqword ptr [rsp + 0x28], rax\n",
      "0x109796f:\txor\teax, eax\n",
      "0x1097971:\tmov\trax, qword ptr [rip + 0x353570]\n",
      "0x1097978:\tmov\trax, qword ptr [rax]\n",
      "0x109797b:\ttest\trax, rax\n",
      "0x109797e:\tjne\t0x1097c20\n",
      "defaultdict(<class 'list'>, {'active': [<SimState @ 0x400707>], 'stashed': [], 'pruned': [], 'unsat': [], 'errored': [], 'deadended': [], 'unconstrained': []})\n",
      "active------\n",
      "0x400707:\tmov\tedi, 0x10\n",
      "0x40070c:\tcall\t0x4005b0\n",
      "defaultdict(<class 'list'>, {'active': [<SimState @ 0x4005b0>], 'stashed': [], 'pruned': [], 'unsat': [], 'errored': [], 'deadended': [], 'unconstrained': []})\n",
      "active------\n",
      "0x4005b0:\tjmp\tqword ptr [rip + 0x200a1a]\n",
      "defaultdict(<class 'list'>, {'active': [<SimState @ 0x1097070>], 'stashed': [], 'pruned': [], 'unsat': [], 'errored': [], 'deadended': [], 'unconstrained': []})\n",
      "active------\n",
      "0x1097070:\tpush\trbp\n",
      "0x1097071:\tpush\trbx\n",
      "0x1097072:\tsub\trsp, 0x18\n",
      "0x1097076:\tmov\trax, qword ptr [rip + 0x353e63]\n",
      "0x109707d:\tmov\trax, qword ptr [rax]\n",
      "0x1097080:\ttest\trax, rax\n",
      "0x1097083:\tjne\t0x1097270\n",
      "defaultdict(<class 'list'>, {'active': [<SimState @ 0x400711>], 'stashed': [], 'pruned': [], 'unsat': [], 'errored': [], 'deadended': [], 'unconstrained': []})\n",
      "active------\n",
      "0x400711:\tmov\tqword ptr [rbp - 0x10], rax\n",
      "0x400715:\tmov\trax, qword ptr [rbp - 0x18]\n",
      "0x400719:\tmov\tdword ptr [rax + 8], 1\n",
      "0x400720:\tmov\trax, qword ptr [rbp - 0x18]\n",
      "0x400724:\tmov\tqword ptr [rbp - 8], rax\n",
      "0x400728:\tmov\trax, qword ptr [rbp - 8]\n",
      "0x40072c:\tmov\teax, dword ptr [rax + 8]\n",
      "0x40072f:\ttest\teax, eax\n",
      "0x400731:\tje\t0x400746\n",
      "defaultdict(<class 'list'>, {'active': [<SimState @ 0x400733>], 'stashed': [], 'pruned': [], 'unsat': [], 'errored': [], 'deadended': [], 'unconstrained': []})\n",
      "active------\n",
      "0x400733:\tlea\trdi, [rip + 0xaa]\n",
      "0x40073a:\tmov\teax, 0\n",
      "0x40073f:\tcall\t0x4005a0\n",
      "defaultdict(<class 'list'>, {'active': [<SimState @ 0x4005a0>], 'stashed': [], 'pruned': [], 'unsat': [], 'errored': [], 'deadended': [], 'unconstrained': []})\n",
      "active------\n",
      "0x4005a0:\tjmp\tqword ptr [rip + 0x200a22]\n",
      "defaultdict(<class 'list'>, {'active': [<SimState @ 0x1064e80>], 'stashed': [], 'pruned': [], 'unsat': [], 'errored': [], 'deadended': [], 'unconstrained': []})\n",
      "active------\n",
      "0x1064e80:\tsub\trsp, 0xd8\n",
      "0x1064e87:\ttest\tal, al\n",
      "0x1064e89:\tmov\tqword ptr [rsp + 0x28], rsi\n",
      "0x1064e8e:\tmov\tqword ptr [rsp + 0x30], rdx\n",
      "0x1064e93:\tmov\tqword ptr [rsp + 0x38], rcx\n",
      "0x1064e98:\tmov\tqword ptr [rsp + 0x40], r8\n",
      "0x1064e9d:\tmov\tqword ptr [rsp + 0x48], r9\n",
      "0x1064ea2:\tje\t0x1064edb\n",
      "defaultdict(<class 'list'>, {'active': [<SimState @ 0x400744>], 'stashed': [], 'pruned': [], 'unsat': [], 'errored': [], 'deadended': [], 'unconstrained': []})\n",
      "active------\n",
      "0x400744:\tjmp\t0x400757\n",
      "defaultdict(<class 'list'>, {'active': [<SimState @ 0x400757>], 'stashed': [], 'pruned': [], 'unsat': [], 'errored': [], 'deadended': [], 'unconstrained': []})\n",
      "active------\n",
      "0x400757:\tmov\teax, 0\n",
      "0x40075c:\tleave\t\n",
      "0x40075d:\tret\t\n"
     ]
    },
    {
     "name": "stderr",
     "output_type": "stream",
     "text": [
      "WARNING | 2020-05-30 21:55:35,954 | \u001b[34mangr.engines.successors\u001b[0m | \u001b[34mExit state has over 256 possible solutions. Likely unconstrained; skipping. <BV64 mem_7fffffffffefff8_188_64{UNINITIALIZED}>\u001b[0m\n"
     ]
    }
   ],
   "source": [
    "mstate = b.factory.blank_state(addr=b.loader.find_symbol('main').rebased_addr)\n",
    "print('malloc_address: %d' %(b.loader.find_symbol('malloc').rebased_addr))\n",
    "m = b.factory.simgr(mstate)\n",
    "while(len(m.active)==1):\n",
    "    print(m._stashes)\n",
    "    for s in m.active:\n",
    "        print('active------')\n",
    "        s.block().pp()\n",
    "    m.step()"
   ]
  }
 ],
 "metadata": {
  "kernelspec": {
   "display_name": "angr",
   "language": "python",
   "name": "angr"
  },
  "language_info": {
   "codemirror_mode": {
    "name": "ipython",
    "version": 3
   },
   "file_extension": ".py",
   "mimetype": "text/x-python",
   "name": "python",
   "nbconvert_exporter": "python",
   "pygments_lexer": "ipython3",
   "version": "3.6.9"
  }
 },
 "nbformat": 4,
 "nbformat_minor": 4
}
